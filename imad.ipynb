{
  "nbformat": 4,
  "nbformat_minor": 0,
  "metadata": {
    "colab": {
      "name": "imad.ipynb",
      "provenance": [],
      "authorship_tag": "ABX9TyNNMQHEwkthGt46PxLymZg5",
      "include_colab_link": true
    },
    "kernelspec": {
      "name": "python3",
      "display_name": "Python 3"
    },
    "language_info": {
      "name": "python"
    }
  },
  "cells": [
    {
      "cell_type": "markdown",
      "metadata": {
        "id": "view-in-github",
        "colab_type": "text"
      },
      "source": [
        "<a href=\"https://colab.research.google.com/github/imadangada/covid-19-data-analysis-with-python/blob/main/imad.ipynb\" target=\"_parent\"><img src=\"https://colab.research.google.com/assets/colab-badge.svg\" alt=\"Open In Colab\"/></a>"
      ]
    },
    {
      "cell_type": "code",
      "metadata": {
        "id": "SXrUQYOa1Frf"
      },
      "source": [
        "import itertools\n",
        "import pandas as pd\n",
        "import numpy as np\n",
        "import matplotlib.ticker as ticker\n",
        "from sklearn import preprocessing\n",
        "%matplotlib inline"
      ],
      "execution_count": null,
      "outputs": []
    },
    {
      "cell_type": "code",
      "metadata": {
        "colab": {
          "base_uri": "https://localhost:8080/",
          "height": 35
        },
        "id": "vwrPD4xS2Zl7",
        "outputId": "dde362a3-c2d4-4700-e0ec-abf26c125797"
      },
      "source": [
        "import os \n",
        "os.getcwd()"
      ],
      "execution_count": null,
      "outputs": [
        {
          "output_type": "execute_result",
          "data": {
            "application/vnd.google.colaboratory.intrinsic+json": {
              "type": "string"
            },
            "text/plain": [
              "'/content'"
            ]
          },
          "metadata": {
            "tags": []
          },
          "execution_count": 3
        }
      ]
    },
    {
      "cell_type": "code",
      "metadata": {
        "colab": {
          "resources": {
            "http://localhost:8080/nbextensions/google.colab/files.js": {
              "data": "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",
              "ok": true,
              "headers": [
                [
                  "content-type",
                  "application/javascript"
                ]
              ],
              "status": 200,
              "status_text": ""
            }
          },
          "base_uri": "https://localhost:8080/",
          "height": 109
        },
        "id": "0iGysZ_t6qgC",
        "outputId": "9b402db4-dd97-4bf7-fc42-5e6892e8db87"
      },
      "source": [
        "from google.colab import files\n",
        "files.upload()"
      ],
      "execution_count": null,
      "outputs": [
        {
          "output_type": "display_data",
          "data": {
            "text/html": [
              "\n",
              "     <input type=\"file\" id=\"files-dc44dc5d-7b8e-4c08-bc5b-4c5613187c36\" name=\"files[]\" multiple disabled\n",
              "        style=\"border:none\" />\n",
              "     <output id=\"result-dc44dc5d-7b8e-4c08-bc5b-4c5613187c36\">\n",
              "      Upload widget is only available when the cell has been executed in the\n",
              "      current browser session. Please rerun this cell to enable.\n",
              "      </output>\n",
              "      <script src=\"/nbextensions/google.colab/files.js\"></script> "
            ],
            "text/plain": [
              "<IPython.core.display.HTML object>"
            ]
          },
          "metadata": {
            "tags": []
          }
        },
        {
          "output_type": "stream",
          "text": [
            "Saving who2.csv to who2.csv\n"
          ],
          "name": "stdout"
        },
        {
          "output_type": "execute_result",
          "data": {
            "text/plain": [
              "{'who2.csv': b'\\xef\\xbb\\xbfName,WHO Region,Cases - cumulative total,Cases - cumulative total per 100000 population,Cases - newly reported in last 7 days,Cases - newly reported in last 7 days per 100000 population,Cases - newly reported in last 24 hours,Deaths - cumulative total,Deaths - cumulative total per 100000 population,Deaths - newly reported in last 7 days,Deaths - newly reported in last 7 days per 100000 population,Deaths - newly reported in last 24 hours\\r\\nUnited States of America,Americas,35010407,10577.08,618994,187.01,78722,609022,183.99,2759,0.83,387\\r\\nBrazil,Americas,19953501,9387.26,245839,115.66,15143,557223,262.15,6721,3.16,389\\r\\nArgentina,Americas,4947030,10945.78,87860,194.4,11183,106045,234.63,1940,4.29,273\\r\\nColombia,Americas,4801050,9435.49,64701,127.16,6636,121216,238.23,2034,4,218\\r\\nMexico,Americas,2861498,2219.37,107060,83.04,6506,241279,187.14,2684,2.08,245\\r\\nPeru,Americas,2114445,6412.88,9440,28.63,1244,196518,596.02,545,1.65,80\\r\\nChile,Americas,1618457,8466.42,7367,38.54,605,35640,186.44,489,2.56,24\\r\\nCanada,Americas,1430483,3790.15,3141,8.32,0,26592,70.46,39,0.1,0\\r\\nEcuador,Americas,487702,2764.27,3969,22.5,104,31644,179.36,190,1.08,10\\r\\nBolivia (Plurinational State of),Americas,474538,4065.25,5356,45.88,639,17859,152.99,187,1.6,20\\r\\nParaguay,Americas,453031,6351.61,3129,43.87,333,15086,211.51,385,5.4,44\\r\\nPanama,Americas,436812,10123.65,6368,147.59,337,6842,158.57,74,1.72,9\\r\\nCuba,Americas,413251,3648.49,64196,566.77,9629,2993,26.42,501,4.42,80\\r\\nCosta Rica,Americas,410180,8052.03,8992,176.52,1020,5059,99.31,78,1.53,11\\r\\nUruguay,Americas,381715,10988.62,1131,32.56,146,5972,171.92,36,1.04,6\\r\\nGuatemala,Americas,373047,2082.25,17824,99.49,2789,10483,58.51,307,1.71,35\\r\\nDominican Republic,Americas,342850,3160.52,2352,21.68,190,3968,36.58,23,0.21,5\\r\\nVenezuela (Bolivarian Republic of),Americas,307570,1081.62,6651,23.39,897,3623,12.74,114,0.4,16\\r\\nHonduras,Americas,300572,3034.67,10125,102.23,3461,7902,79.78,252,2.54,68\\r\\nPuerto Rico,Americas,147820,5166.99,3499,122.31,169,2585,90.36,16,0.56,4\\r\\nEl Salvador,Americas,87498,1348.99,1719,26.5,878,2663,41.06,86,1.33,12\\r\\nJamaica,Americas,53543,1808.17,1402,47.35,115,1203,40.63,24,0.81,3\\r\\nTrinidad and Tobago,Americas,39039,2789.52,1376,98.32,109,1092,78.03,49,3.5,8\\r\\nFrench Guiana,Americas,30449,10194.45,635,212.6,120,189,63.28,10,3.35,0\\r\\nSuriname,Americas,25439,4336.45,536,91.37,37,652,111.14,18,3.07,1\\r\\nMartinique,Americas,23667,6306.74,6452,1719.32,1228,147,39.17,43,11.46,4\\r\\nGuyana,Americas,22619,2875.72,438,55.69,22,547,69.54,17,2.16,1\\r\\nGuadeloupe,Americas,21125,5279.61,2812,702.78,0,283,70.73,3,0.75,0\\r\\nHaiti,Americas,20307,178.09,191,1.68,0,560,4.91,8,0.07,0\\r\\nBahamas,Americas,15046,3826.12,719,182.84,35,292,74.25,8,2.03,1\\r\\nBelize,Americas,14163,3561.87,180,45.27,0,337,84.75,4,1.01,0\\r\\nCura\\xc3\\xa7ao,Americas,13692,8344.05,392,238.89,23,127,77.4,1,0.61,0\\r\\nAruba,Americas,11807,11058.76,402,376.52,42,111,103.97,2,1.87,1\\r\\nNicaragua,Americas,7890,119.1,298,4.5,298,196,2.96,1,0.02,1\\r\\nSaint Lucia,Americas,5646,3074.71,117,63.72,14,89,48.47,1,0.54,0\\r\\nUnited States Virgin Islands,Americas,4663,4465.41,260,248.98,0,39,37.35,4,3.83,0\\r\\nBarbados,Americas,4417,1537.02,64,22.27,10,48,16.7,0,0,0\\r\\nSint Maarten,Americas,2798,6524.88,75,174.9,28,34,79.29,0,0,0\\r\\nSaint Martin,Americas,2797,7235.06,218,563.9,0,30,77.6,0,0,0\\r\\nBermuda,Americas,2586,4152.68,48,77.08,18,33,52.99,0,0,0\\r\\nBritish Virgin Islands,Americas,2500,8268.02,111,367.1,0,31,102.52,6,19.84,0\\r\\nTurks and Caicos Islands,Americas,2486,6420.79,20,51.66,0,18,46.49,0,0,0\\r\\nSaint Vincent and the Grenadines,Americas,2297,2070.49,17,15.32,0,12,10.82,0,0,0\\r\\nBonaire,Americas,1683,8046.86,17,81.28,0,17,81.28,0,0,0\\r\\nSaint Barth\\xc3\\xa9lemy,Americas,1335,13505.31,270,2731.41,0,1,10.12,0,0,0\\r\\nAntigua and Barbuda,Americas,1303,1330.56,15,15.32,0,43,43.91,0,0,0\\r\\nCayman Islands,Americas,644,979.91,4,6.09,1,2,3.04,0,0,0\\r\\nSaint Kitts and Nevis,Americas,600,1127.99,27,50.76,6,3,5.64,0,0,0\\r\\nDominica,Americas,218,302.82,9,12.5,0,0,0,0,0,0\\r\\nGrenada,Americas,169,150.19,4,3.55,0,1,0.89,0,0,0\\r\\nAnguilla,Americas,114,759.9,1,6.67,0,0,0,0,0,0\\r\\nFalkland Islands (Malvinas),Americas,61,1751.36,1,28.71,0,0,0,0,0,0\\r\\nSaint Pierre and Miquelon,Americas,28,483.18,0,0,0,0,0,0,0,0\\r\\nMontserrat,Americas,21,420.08,0,0,0,1,20,0,0,0\\r\\nSint Eustatius,Americas,20,637.15,0,0,0,0,0,0,0,0\\r\\nSaba,Americas,7,362.13,0,0,0,0,0,0,0,0\\r\\n'}"
            ]
          },
          "metadata": {
            "tags": []
          },
          "execution_count": 4
        }
      ]
    },
    {
      "cell_type": "code",
      "metadata": {
        "id": "D5qkZpgt9Uh8"
      },
      "source": [
        "import pandas as pd\n",
        "import numpy as np"
      ],
      "execution_count": null,
      "outputs": []
    },
    {
      "cell_type": "code",
      "metadata": {
        "id": "-o0NIOCJAOrk"
      },
      "source": [
        "data = pd.read_csv(\"who2.csv\")"
      ],
      "execution_count": null,
      "outputs": []
    },
    {
      "cell_type": "code",
      "metadata": {
        "colab": {
          "base_uri": "https://localhost:8080/",
          "height": 306
        },
        "id": "bWnpD91_AjKL",
        "outputId": "bcb419f8-914c-4a78-cafd-eee6879eeda5"
      },
      "source": [
        "data.head()"
      ],
      "execution_count": null,
      "outputs": [
        {
          "output_type": "execute_result",
          "data": {
            "text/html": [
              "<div>\n",
              "<style scoped>\n",
              "    .dataframe tbody tr th:only-of-type {\n",
              "        vertical-align: middle;\n",
              "    }\n",
              "\n",
              "    .dataframe tbody tr th {\n",
              "        vertical-align: top;\n",
              "    }\n",
              "\n",
              "    .dataframe thead th {\n",
              "        text-align: right;\n",
              "    }\n",
              "</style>\n",
              "<table border=\"1\" class=\"dataframe\">\n",
              "  <thead>\n",
              "    <tr style=\"text-align: right;\">\n",
              "      <th></th>\n",
              "      <th>Name</th>\n",
              "      <th>WHO Region</th>\n",
              "      <th>Cases - cumulative total</th>\n",
              "      <th>Cases - cumulative total per 100000 population</th>\n",
              "      <th>Cases - newly reported in last 7 days</th>\n",
              "      <th>Cases - newly reported in last 7 days per 100000 population</th>\n",
              "      <th>Cases - newly reported in last 24 hours</th>\n",
              "      <th>Deaths - cumulative total</th>\n",
              "      <th>Deaths - cumulative total per 100000 population</th>\n",
              "      <th>Deaths - newly reported in last 7 days</th>\n",
              "      <th>Deaths - newly reported in last 7 days per 100000 population</th>\n",
              "      <th>Deaths - newly reported in last 24 hours</th>\n",
              "    </tr>\n",
              "  </thead>\n",
              "  <tbody>\n",
              "    <tr>\n",
              "      <th>0</th>\n",
              "      <td>United States of America</td>\n",
              "      <td>Americas</td>\n",
              "      <td>35010407</td>\n",
              "      <td>10577.08</td>\n",
              "      <td>618994</td>\n",
              "      <td>187.01</td>\n",
              "      <td>78722</td>\n",
              "      <td>609022</td>\n",
              "      <td>183.99</td>\n",
              "      <td>2759</td>\n",
              "      <td>0.83</td>\n",
              "      <td>387</td>\n",
              "    </tr>\n",
              "    <tr>\n",
              "      <th>1</th>\n",
              "      <td>Brazil</td>\n",
              "      <td>Americas</td>\n",
              "      <td>19953501</td>\n",
              "      <td>9387.26</td>\n",
              "      <td>245839</td>\n",
              "      <td>115.66</td>\n",
              "      <td>15143</td>\n",
              "      <td>557223</td>\n",
              "      <td>262.15</td>\n",
              "      <td>6721</td>\n",
              "      <td>3.16</td>\n",
              "      <td>389</td>\n",
              "    </tr>\n",
              "    <tr>\n",
              "      <th>2</th>\n",
              "      <td>Argentina</td>\n",
              "      <td>Americas</td>\n",
              "      <td>4947030</td>\n",
              "      <td>10945.78</td>\n",
              "      <td>87860</td>\n",
              "      <td>194.40</td>\n",
              "      <td>11183</td>\n",
              "      <td>106045</td>\n",
              "      <td>234.63</td>\n",
              "      <td>1940</td>\n",
              "      <td>4.29</td>\n",
              "      <td>273</td>\n",
              "    </tr>\n",
              "    <tr>\n",
              "      <th>3</th>\n",
              "      <td>Colombia</td>\n",
              "      <td>Americas</td>\n",
              "      <td>4801050</td>\n",
              "      <td>9435.49</td>\n",
              "      <td>64701</td>\n",
              "      <td>127.16</td>\n",
              "      <td>6636</td>\n",
              "      <td>121216</td>\n",
              "      <td>238.23</td>\n",
              "      <td>2034</td>\n",
              "      <td>4.00</td>\n",
              "      <td>218</td>\n",
              "    </tr>\n",
              "    <tr>\n",
              "      <th>4</th>\n",
              "      <td>Mexico</td>\n",
              "      <td>Americas</td>\n",
              "      <td>2861498</td>\n",
              "      <td>2219.37</td>\n",
              "      <td>107060</td>\n",
              "      <td>83.04</td>\n",
              "      <td>6506</td>\n",
              "      <td>241279</td>\n",
              "      <td>187.14</td>\n",
              "      <td>2684</td>\n",
              "      <td>2.08</td>\n",
              "      <td>245</td>\n",
              "    </tr>\n",
              "  </tbody>\n",
              "</table>\n",
              "</div>"
            ],
            "text/plain": [
              "                       Name  ... Deaths - newly reported in last 24 hours\n",
              "0  United States of America  ...                                      387\n",
              "1                    Brazil  ...                                      389\n",
              "2                 Argentina  ...                                      273\n",
              "3                  Colombia  ...                                      218\n",
              "4                    Mexico  ...                                      245\n",
              "\n",
              "[5 rows x 12 columns]"
            ]
          },
          "metadata": {
            "tags": []
          },
          "execution_count": 7
        }
      ]
    },
    {
      "cell_type": "code",
      "metadata": {
        "colab": {
          "base_uri": "https://localhost:8080/",
          "height": 365
        },
        "id": "yjt_cQk2EMvo",
        "outputId": "1e3cedb2-e58f-4876-c6b4-e986ce92525f"
      },
      "source": [
        "data.describe()"
      ],
      "execution_count": null,
      "outputs": [
        {
          "output_type": "execute_result",
          "data": {
            "text/html": [
              "<div>\n",
              "<style scoped>\n",
              "    .dataframe tbody tr th:only-of-type {\n",
              "        vertical-align: middle;\n",
              "    }\n",
              "\n",
              "    .dataframe tbody tr th {\n",
              "        vertical-align: top;\n",
              "    }\n",
              "\n",
              "    .dataframe thead th {\n",
              "        text-align: right;\n",
              "    }\n",
              "</style>\n",
              "<table border=\"1\" class=\"dataframe\">\n",
              "  <thead>\n",
              "    <tr style=\"text-align: right;\">\n",
              "      <th></th>\n",
              "      <th>Cases - cumulative total</th>\n",
              "      <th>Cases - cumulative total per 100000 population</th>\n",
              "      <th>Cases - newly reported in last 7 days</th>\n",
              "      <th>Cases - newly reported in last 7 days per 100000 population</th>\n",
              "      <th>Cases - newly reported in last 24 hours</th>\n",
              "      <th>Deaths - cumulative total</th>\n",
              "      <th>Deaths - cumulative total per 100000 population</th>\n",
              "      <th>Deaths - newly reported in last 7 days</th>\n",
              "      <th>Deaths - newly reported in last 7 days per 100000 population</th>\n",
              "      <th>Deaths - newly reported in last 24 hours</th>\n",
              "    </tr>\n",
              "  </thead>\n",
              "  <tbody>\n",
              "    <tr>\n",
              "      <th>count</th>\n",
              "      <td>5.600000e+01</td>\n",
              "      <td>56.000000</td>\n",
              "      <td>56.000000</td>\n",
              "      <td>56.000000</td>\n",
              "      <td>56.000000</td>\n",
              "      <td>56.000000</td>\n",
              "      <td>56.000000</td>\n",
              "      <td>56.000000</td>\n",
              "      <td>56.000000</td>\n",
              "      <td>56.000000</td>\n",
              "    </tr>\n",
              "    <tr>\n",
              "      <th>mean</th>\n",
              "      <td>1.387297e+06</td>\n",
              "      <td>4596.223929</td>\n",
              "      <td>23157.571429</td>\n",
              "      <td>187.721429</td>\n",
              "      <td>2548.875000</td>\n",
              "      <td>36006.285714</td>\n",
              "      <td>84.572143</td>\n",
              "      <td>351.053571</td>\n",
              "      <td>1.734464</td>\n",
              "      <td>34.928571</td>\n",
              "    </tr>\n",
              "    <tr>\n",
              "      <th>std</th>\n",
              "      <td>5.364471e+06</td>\n",
              "      <td>3617.314341</td>\n",
              "      <td>89637.502399</td>\n",
              "      <td>433.540404</td>\n",
              "      <td>10781.672832</td>\n",
              "      <td>115635.712415</td>\n",
              "      <td>98.769421</td>\n",
              "      <td>1063.379440</td>\n",
              "      <td>3.157684</td>\n",
              "      <td>89.166006</td>\n",
              "    </tr>\n",
              "    <tr>\n",
              "      <th>min</th>\n",
              "      <td>7.000000e+00</td>\n",
              "      <td>119.100000</td>\n",
              "      <td>0.000000</td>\n",
              "      <td>0.000000</td>\n",
              "      <td>0.000000</td>\n",
              "      <td>0.000000</td>\n",
              "      <td>0.000000</td>\n",
              "      <td>0.000000</td>\n",
              "      <td>0.000000</td>\n",
              "      <td>0.000000</td>\n",
              "    </tr>\n",
              "    <tr>\n",
              "      <th>25%</th>\n",
              "      <td>2.438750e+03</td>\n",
              "      <td>1490.012500</td>\n",
              "      <td>42.750000</td>\n",
              "      <td>22.122500</td>\n",
              "      <td>0.000000</td>\n",
              "      <td>27.000000</td>\n",
              "      <td>15.710000</td>\n",
              "      <td>0.000000</td>\n",
              "      <td>0.000000</td>\n",
              "      <td>0.000000</td>\n",
              "    </tr>\n",
              "    <tr>\n",
              "      <th>50%</th>\n",
              "      <td>2.071600e+04</td>\n",
              "      <td>3719.320000</td>\n",
              "      <td>487.000000</td>\n",
              "      <td>53.675000</td>\n",
              "      <td>31.500000</td>\n",
              "      <td>287.500000</td>\n",
              "      <td>66.410000</td>\n",
              "      <td>8.000000</td>\n",
              "      <td>0.780000</td>\n",
              "      <td>0.500000</td>\n",
              "    </tr>\n",
              "    <tr>\n",
              "      <th>75%</th>\n",
              "      <td>3.888312e+05</td>\n",
              "      <td>7438.010000</td>\n",
              "      <td>5609.000000</td>\n",
              "      <td>175.305000</td>\n",
              "      <td>613.500000</td>\n",
              "      <td>6189.500000</td>\n",
              "      <td>102.882500</td>\n",
              "      <td>93.000000</td>\n",
              "      <td>2.100000</td>\n",
              "      <td>11.250000</td>\n",
              "    </tr>\n",
              "    <tr>\n",
              "      <th>max</th>\n",
              "      <td>3.501041e+07</td>\n",
              "      <td>13505.310000</td>\n",
              "      <td>618994.000000</td>\n",
              "      <td>2731.410000</td>\n",
              "      <td>78722.000000</td>\n",
              "      <td>609022.000000</td>\n",
              "      <td>596.020000</td>\n",
              "      <td>6721.000000</td>\n",
              "      <td>19.840000</td>\n",
              "      <td>389.000000</td>\n",
              "    </tr>\n",
              "  </tbody>\n",
              "</table>\n",
              "</div>"
            ],
            "text/plain": [
              "       Cases - cumulative total  ...  Deaths - newly reported in last 24 hours\n",
              "count              5.600000e+01  ...                                 56.000000\n",
              "mean               1.387297e+06  ...                                 34.928571\n",
              "std                5.364471e+06  ...                                 89.166006\n",
              "min                7.000000e+00  ...                                  0.000000\n",
              "25%                2.438750e+03  ...                                  0.000000\n",
              "50%                2.071600e+04  ...                                  0.500000\n",
              "75%                3.888312e+05  ...                                 11.250000\n",
              "max                3.501041e+07  ...                                389.000000\n",
              "\n",
              "[8 rows x 10 columns]"
            ]
          },
          "metadata": {
            "tags": []
          },
          "execution_count": 8
        }
      ]
    },
    {
      "cell_type": "code",
      "metadata": {
        "colab": {
          "base_uri": "https://localhost:8080/",
          "height": 306
        },
        "id": "FAdTTe44jUJn",
        "outputId": "5b4f7352-b17c-4b78-ed80-4d1aabe759b8"
      },
      "source": [
        "data.head()"
      ],
      "execution_count": null,
      "outputs": [
        {
          "output_type": "execute_result",
          "data": {
            "text/html": [
              "<div>\n",
              "<style scoped>\n",
              "    .dataframe tbody tr th:only-of-type {\n",
              "        vertical-align: middle;\n",
              "    }\n",
              "\n",
              "    .dataframe tbody tr th {\n",
              "        vertical-align: top;\n",
              "    }\n",
              "\n",
              "    .dataframe thead th {\n",
              "        text-align: right;\n",
              "    }\n",
              "</style>\n",
              "<table border=\"1\" class=\"dataframe\">\n",
              "  <thead>\n",
              "    <tr style=\"text-align: right;\">\n",
              "      <th></th>\n",
              "      <th>Name</th>\n",
              "      <th>WHO Region</th>\n",
              "      <th>Cases - cumulative total</th>\n",
              "      <th>Cases - cumulative total per 100000 population</th>\n",
              "      <th>Cases - newly reported in last 7 days</th>\n",
              "      <th>Cases - newly reported in last 7 days per 100000 population</th>\n",
              "      <th>Cases - newly reported in last 24 hours</th>\n",
              "      <th>Deaths - cumulative total</th>\n",
              "      <th>Deaths - cumulative total per 100000 population</th>\n",
              "      <th>Deaths - newly reported in last 7 days</th>\n",
              "      <th>Deaths - newly reported in last 7 days per 100000 population</th>\n",
              "      <th>Deaths - newly reported in last 24 hours</th>\n",
              "    </tr>\n",
              "  </thead>\n",
              "  <tbody>\n",
              "    <tr>\n",
              "      <th>0</th>\n",
              "      <td>United States of America</td>\n",
              "      <td>Americas</td>\n",
              "      <td>35010407</td>\n",
              "      <td>10577.08</td>\n",
              "      <td>618994</td>\n",
              "      <td>187.01</td>\n",
              "      <td>78722</td>\n",
              "      <td>609022</td>\n",
              "      <td>183.99</td>\n",
              "      <td>2759</td>\n",
              "      <td>0.83</td>\n",
              "      <td>387</td>\n",
              "    </tr>\n",
              "    <tr>\n",
              "      <th>1</th>\n",
              "      <td>Brazil</td>\n",
              "      <td>Americas</td>\n",
              "      <td>19953501</td>\n",
              "      <td>9387.26</td>\n",
              "      <td>245839</td>\n",
              "      <td>115.66</td>\n",
              "      <td>15143</td>\n",
              "      <td>557223</td>\n",
              "      <td>262.15</td>\n",
              "      <td>6721</td>\n",
              "      <td>3.16</td>\n",
              "      <td>389</td>\n",
              "    </tr>\n",
              "    <tr>\n",
              "      <th>2</th>\n",
              "      <td>Argentina</td>\n",
              "      <td>Americas</td>\n",
              "      <td>4947030</td>\n",
              "      <td>10945.78</td>\n",
              "      <td>87860</td>\n",
              "      <td>194.40</td>\n",
              "      <td>11183</td>\n",
              "      <td>106045</td>\n",
              "      <td>234.63</td>\n",
              "      <td>1940</td>\n",
              "      <td>4.29</td>\n",
              "      <td>273</td>\n",
              "    </tr>\n",
              "    <tr>\n",
              "      <th>3</th>\n",
              "      <td>Colombia</td>\n",
              "      <td>Americas</td>\n",
              "      <td>4801050</td>\n",
              "      <td>9435.49</td>\n",
              "      <td>64701</td>\n",
              "      <td>127.16</td>\n",
              "      <td>6636</td>\n",
              "      <td>121216</td>\n",
              "      <td>238.23</td>\n",
              "      <td>2034</td>\n",
              "      <td>4.00</td>\n",
              "      <td>218</td>\n",
              "    </tr>\n",
              "    <tr>\n",
              "      <th>4</th>\n",
              "      <td>Mexico</td>\n",
              "      <td>Americas</td>\n",
              "      <td>2861498</td>\n",
              "      <td>2219.37</td>\n",
              "      <td>107060</td>\n",
              "      <td>83.04</td>\n",
              "      <td>6506</td>\n",
              "      <td>241279</td>\n",
              "      <td>187.14</td>\n",
              "      <td>2684</td>\n",
              "      <td>2.08</td>\n",
              "      <td>245</td>\n",
              "    </tr>\n",
              "  </tbody>\n",
              "</table>\n",
              "</div>"
            ],
            "text/plain": [
              "                       Name  ... Deaths - newly reported in last 24 hours\n",
              "0  United States of America  ...                                      387\n",
              "1                    Brazil  ...                                      389\n",
              "2                 Argentina  ...                                      273\n",
              "3                  Colombia  ...                                      218\n",
              "4                    Mexico  ...                                      245\n",
              "\n",
              "[5 rows x 12 columns]"
            ]
          },
          "metadata": {
            "tags": []
          },
          "execution_count": 9
        }
      ]
    },
    {
      "cell_type": "code",
      "metadata": {
        "id": "qPaBkPCUghdc"
      },
      "source": [
        "#Import libraries \n",
        "import matplotlib.pyplot as plt\n",
        "import numpy as np\n",
        "from sklearn.linear_model import LinearRegression \n",
        "%matplotlib inline"
      ],
      "execution_count": null,
      "outputs": []
    },
    {
      "cell_type": "code",
      "metadata": {
        "colab": {
          "base_uri": "https://localhost:8080/"
        },
        "id": "4nOWkaPIgndG",
        "outputId": "28729826-3178-42ba-e68b-1f62f082a6dc"
      },
      "source": [
        "X = data[['Cases - cumulative total']] \n",
        "Y = data['Deaths - cumulative total'] \n",
        "lm = LinearRegression() \n",
        "lm \n",
        "lm.fit(X,Y)\n",
        "lm.score(X, Y)"
      ],
      "execution_count": null,
      "outputs": [
        {
          "output_type": "execute_result",
          "data": {
            "text/plain": [
              "0.879731556925817"
            ]
          },
          "metadata": {
            "tags": []
          },
          "execution_count": 11
        }
      ]
    },
    {
      "cell_type": "code",
      "metadata": {
        "colab": {
          "base_uri": "https://localhost:8080/"
        },
        "id": "Ad2Al8Wjljvj",
        "outputId": "4ef95230-4999-49d5-8cd6-beb4a417212d"
      },
      "source": [
        "X = data[['Cases - cumulative total']] \n",
        "Y = data['Deaths - cumulative total'] \n",
        "lm = LinearRegression()\n",
        "lm\n",
        "lm.fit(X,Y)\n",
        "\n",
        "Yhat=lm.predict(X)\n",
        "Yhat[0:5]"
      ],
      "execution_count": null,
      "outputs": [
        {
          "output_type": "execute_result",
          "data": {
            "text/plain": [
              "array([715801.38585336, 411379.48842034, 107977.29041276, 105025.85347165,\n",
              "        65811.81441143])"
            ]
          },
          "metadata": {
            "tags": []
          },
          "execution_count": 12
        }
      ]
    },
    {
      "cell_type": "code",
      "metadata": {
        "colab": {
          "base_uri": "https://localhost:8080/"
        },
        "id": "ZQXtMcIglyJG",
        "outputId": "b9594658-a003-4392-eb50-f337973cc991"
      },
      "source": [
        "lm.intercept_"
      ],
      "execution_count": null,
      "outputs": [
        {
          "output_type": "execute_result",
          "data": {
            "text/plain": [
              "7957.78711918573"
            ]
          },
          "metadata": {
            "tags": []
          },
          "execution_count": 13
        }
      ]
    },
    {
      "cell_type": "code",
      "metadata": {
        "colab": {
          "base_uri": "https://localhost:8080/"
        },
        "id": "E8JeATyjl3A3",
        "outputId": "539689d4-2797-4358-de50-86a1a17c7a38"
      },
      "source": [
        "lm.coef_"
      ],
      "execution_count": null,
      "outputs": [
        {
          "output_type": "execute_result",
          "data": {
            "text/plain": [
              "array([0.02021809])"
            ]
          },
          "metadata": {
            "tags": []
          },
          "execution_count": 14
        }
      ]
    },
    {
      "cell_type": "code",
      "metadata": {
        "id": "MjJxxxysm4o1"
      },
      "source": [
        "X=data.drop(['Name','WHO Region','Deaths - cumulative total'], axis=1)"
      ],
      "execution_count": null,
      "outputs": []
    },
    {
      "cell_type": "code",
      "metadata": {
        "colab": {
          "base_uri": "https://localhost:8080/"
        },
        "id": "Gt9FjCyJngAi",
        "outputId": "647b67a7-40a0-4b05-e78a-9789fd4f3826"
      },
      "source": [
        "lm.fit(X,Y)"
      ],
      "execution_count": null,
      "outputs": [
        {
          "output_type": "execute_result",
          "data": {
            "text/plain": [
              "LinearRegression(copy_X=True, fit_intercept=True, n_jobs=None, normalize=False)"
            ]
          },
          "metadata": {
            "tags": []
          },
          "execution_count": 16
        }
      ]
    },
    {
      "cell_type": "code",
      "metadata": {
        "colab": {
          "base_uri": "https://localhost:8080/"
        },
        "id": "tv0COSCttPfB",
        "outputId": "4fe8b707-ceea-4f79-ef7d-7c522f67d156"
      },
      "source": [
        "lm.intercept_"
      ],
      "execution_count": null,
      "outputs": [
        {
          "output_type": "execute_result",
          "data": {
            "text/plain": [
              "-1227.8920349813343"
            ]
          },
          "metadata": {
            "tags": []
          },
          "execution_count": 17
        }
      ]
    },
    {
      "cell_type": "code",
      "metadata": {
        "colab": {
          "base_uri": "https://localhost:8080/"
        },
        "id": "WrR91FlRtWvE",
        "outputId": "c69f0719-bc12-45b2-ec55-01590d7e93a4"
      },
      "source": [
        "lm.coef_"
      ],
      "execution_count": null,
      "outputs": [
        {
          "output_type": "execute_result",
          "data": {
            "text/plain": [
              "array([ 9.71886043e-03, -3.92296517e+00,  2.62316400e+00,  1.69894848e+01,\n",
              "       -1.75746010e+01,  2.85531899e+02, -1.75580910e+01, -6.52335474e+02,\n",
              "        1.65748526e+02])"
            ]
          },
          "metadata": {
            "tags": []
          },
          "execution_count": 18
        }
      ]
    },
    {
      "cell_type": "code",
      "metadata": {
        "colab": {
          "base_uri": "https://localhost:8080/"
        },
        "id": "4g3Yf1BFlMtz",
        "outputId": "a94cbd07-5d92-4ffe-8437-9c235e509ab9"
      },
      "source": [
        "# fit the model \n",
        "lm.fit(X, data['Deaths - cumulative total'])\n",
        "# Find the R^2\n",
        "print('The R-square is: ', lm.score(X, data['Deaths - cumulative total']))"
      ],
      "execution_count": null,
      "outputs": [
        {
          "output_type": "stream",
          "text": [
            "The R-square is:  0.9929765414145906\n"
          ],
          "name": "stdout"
        }
      ]
    },
    {
      "cell_type": "code",
      "metadata": {
        "id": "5HlANzDnr7T9"
      },
      "source": [
        "from scipy import stats"
      ],
      "execution_count": null,
      "outputs": []
    },
    {
      "cell_type": "code",
      "metadata": {
        "colab": {
          "base_uri": "https://localhost:8080/"
        },
        "id": "DkeYCYDmq8ba",
        "outputId": "70fd3671-11ec-4914-c8b8-926a1c0d0bff"
      },
      "source": [
        "pearson_coef, p_value = stats.pearsonr(data['Deaths - cumulative total'], data['Cases - cumulative total'])\n",
        "print(\"The Pearson Correlation Coefficient is\", pearson_coef, \" with a P-value of P =\", p_value)"
      ],
      "execution_count": null,
      "outputs": [
        {
          "output_type": "stream",
          "text": [
            "The Pearson Correlation Coefficient is 0.9379400604120807  with a P-value of P = 1.6772550130122968e-26\n"
          ],
          "name": "stdout"
        }
      ]
    }
  ]
}